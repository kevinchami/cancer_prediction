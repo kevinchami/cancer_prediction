{
 "cells": [
  {
   "cell_type": "code",
   "execution_count": null,
   "metadata": {},
   "outputs": [],
   "source": [
    "import numpy as np\n",
    "import matplotlib.pyplot as plt\n",
    "import seaborn as sns\n",
    "from sklearn.preprocessing import StandardScaler\n",
    "import time\n",
    "\n"
   ]
  },
  {
   "cell_type": "markdown",
   "metadata": {},
   "source": [
    "## 1) Load the data"
   ]
  },
  {
   "cell_type": "code",
   "execution_count": null,
   "metadata": {},
   "outputs": [],
   "source": [
    "# Load the data\n",
    "data_cancer = np.loadtxt('cancer_data.csv', delimiter=',')\n",
    "\n",
    "# Extract the features and target\n",
    "X = data_cancer[:, :-1]  # Features are all columns except the last one\n",
    "y = data_cancer[:, -1]   # Target variable is the last column \n"
   ]
  },
  {
   "cell_type": "markdown",
   "metadata": {},
   "source": [
    "## A) Normalize the data\n",
    "\n",
    "Using the formula: $$x = \\frac{x - \\mu}{\\sigma}$$\n",
    "\n",
    "where $\\mu$ is the mean of a column and $\\sigma$ is the standart deviation"
   ]
  },
  {
   "cell_type": "code",
   "execution_count": null,
   "metadata": {},
   "outputs": [],
   "source": [
    "# Calculate mean and standard deviation for normalization\n",
    "mu_X = X.mean(axis=0)  # Calculate mean along each feature (column)\n",
    "sigma_X = X.std(axis=0)  # Calculate standard deviation along each feature\n",
    "\n",
    "mu_y = y.mean()  # Calculate mean of the target variable\n",
    "sigma_y = y.std()  # Calculate standard deviation of the target variable\n",
    "\n",
    "# Normalize the data using the formula\n",
    "X_scaled = (X - mu_X) / sigma_X  # Normalize features using calculated mean and standard deviation\n",
    "y_scaled = (y - mu_y) / sigma_y  # Normalize target variable using calculated mean and standard deviation\n",
    "\n",
    "#X_scaled\n",
    "#y_scaled\n"
   ]
  },
  {
   "cell_type": "markdown",
   "metadata": {},
   "source": [
    "## B) Add a column of ones to the X matrix "
   ]
  },
  {
   "cell_type": "code",
   "execution_count": null,
   "metadata": {},
   "outputs": [],
   "source": [
    "# Add a column of ones to X for the intercept term\n",
    "X_scaled = np.hstack((np.ones((X_scaled.shape[0], 1)), X_scaled))\n",
    "#X_scaled"
   ]
  },
  {
   "cell_type": "markdown",
   "metadata": {},
   "source": [
    "## C) Function that receives θ and the vector x and returns hθ(x) (in the case of linear regression)"
   ]
  },
  {
   "cell_type": "code",
   "execution_count": null,
   "metadata": {},
   "outputs": [],
   "source": [
    "def hypothesis(theta, X):\n",
    "    \"\"\"\n",
    "    Calculate the hypothesis h_theta(x) for linear regression.\n",
    "\n",
    "    Parameters:\n",
    "    - theta: np.ndarray, the model parameters (including theta_0 as the bias term)\n",
    "    - x: np.ndarray, a single example or a matrix of examples with a column of ones for the bias term\n",
    "\n",
    "    Returns:\n",
    "    - The predicted values for the given example(s)\n",
    "    \"\"\"\n",
    "    \n",
    "    return np.dot(X, theta) # matrix multiplication between X (feature matrix) and theta (parameter vector) to get the predicted values\n",
    "\n",
    "# Define the feature matrix X\n",
    "#X = np.array([[1, 2, 3], [1, 4, 5]])\n",
    "# Define the parameter vector theta\n",
    "#theta = np.array([0.5, 1.0, -0.5])\n",
    "# Predict for each example in X\n",
    "#predicted_values = hypothesis(theta, X)\n",
    "# Print the predicted values\n",
    "#print(\"Predicted Values:\")\n",
    "#print(predicted_values)"
   ]
  },
  {
   "cell_type": "markdown",
   "metadata": {},
   "source": [
    "## D) Function that accepts a vector θ and the matrices X and Y and returns the value of J(θ)\n",
    "\n",
    "$${MSE} = \\frac{1}{2m} \\sum_{i=1}^{m} (\\hat{y}_i - y_i)^2$$"
   ]
  },
  {
   "cell_type": "code",
   "execution_count": null,
   "metadata": {},
   "outputs": [],
   "source": [
    "def compute_cost(theta, X, y):\n",
    "    \"\"\"\n",
    "    Compute the cost function J(theta) for linear regression.\n",
    "\n",
    "    Parameters:\n",
    "    - theta: np.ndarray, the model parameters\n",
    "    - X: np.ndarray, the matrix of input features, where each row represents an example\n",
    "         and includes a first column of ones for the bias term.\n",
    "    - y: np.ndarray, the vector of target values corresponding to each example in X.\n",
    "\n",
    "    Returns:\n",
    "    - J: float, the cost computed using the given parameters theta\n",
    "    \"\"\"\n",
    "    m = len(y)  # Number of training examples\n",
    "    predictions = hypothesis(theta, X) \n",
    "    errors = np.square(predictions - y)\n",
    "    return np.sum(errors) / (2 * m)\n",
    "\n",
    "# Example usage:\n",
    "# Assume X_with_ones is your feature matrix with the bias term and y is your target variable vector\n",
    "# Assuming 'data' is your loaded dataset, and the last column is the target variable\n",
    "#y = data_cancer[:, -1]  # Extract the last column as the target variable\n",
    "#theta = np.random.randn(X_with_ones.shape[1])  # Random initialization for demonstration\n",
    "#cost = compute_cost(theta, X_with_ones, y)\n",
    "#print(cost)\n"
   ]
  },
  {
   "cell_type": "markdown",
   "metadata": {},
   "source": [
    "## E) A function that accepts a vector and matrices X and y and returns the value of ΔJ(θ)\n"
   ]
  },
  {
   "cell_type": "code",
   "execution_count": null,
   "metadata": {},
   "outputs": [],
   "source": [
    "def compute_gradient(theta, X, y):\n",
    "    \"\"\"\n",
    "    Compute the gradient of the cost function J(theta) with respect to the parameters theta.\n",
    "\n",
    "    Parameters:\n",
    "    - theta: np.ndarray, the model parameters\n",
    "    - X: np.ndarray, the matrix of input features, where each row represents an example\n",
    "         and includes a first column of ones for the bias term.\n",
    "    - y: np.ndarray, the vector of target values corresponding to each example in X.\n",
    "\n",
    "    Returns:\n",
    "    - grad: np.ndarray, the gradient of the cost function with respect to theta\n",
    "    \"\"\"\n",
    "    m = len(y)  # Number of training examples\n",
    "    predictions = hypothesis(theta, X)\n",
    "    return np.dot(X.T, predictions - y) / m\n",
    "\n",
    "# X teta porque X es (nxm) y predictions - y es (mx1), entonces necesitamos que sea X.T para que la multiplicacion se pueda hacer y el resultado sea de nx1 \n",
    "\n",
    "# Example usage:\n",
    "# Generar datos de ejemplo\n",
    "#np.random.seed(0)\n",
    "#X = 2 * np.random.rand(100, 3)  # Matriz de características (100 ejemplos, 3 características)\n",
    "#theta = np.random.rand(3)  # Parámetros del modelo\n",
    "#y = np.dot(X, theta) + np.random.randn(100)  # Valores objetivo (agregando ruido)\n",
    "# Calcular el gradiente utilizando la función compute_gradient\n",
    "#gradient = compute_gradient(theta, X, y)\n",
    "# Imprimir el gradiente calculado\n",
    "#print(\"Gradient:\", gradient)\n"
   ]
  },
  {
   "cell_type": "markdown",
   "metadata": {},
   "source": [
    "### Gradient Descent"
   ]
  },
  {
   "cell_type": "code",
   "execution_count": null,
   "metadata": {},
   "outputs": [],
   "source": [
    "def gradient_descent(X, y, alpha, num_iters):\n",
    "    m, n = X.shape  # Number of examples and features\n",
    "    theta = np.zeros(n)  # Initialize parameters to zeros\n",
    "    J_history = []  # Initialize empty list to store cost function history\n",
    "\n",
    "    start_time = time.time()  # Record start time for execution time measurement\n",
    "    for i in range(num_iters):\n",
    "        # Update parameters using gradient descent\n",
    "        # ajustamos los parametros de tetha para llegar al minimo por eso hacmemos menos\n",
    "        theta -= alpha * compute_gradient(theta, X, y)\n",
    "        \n",
    "        # Compute and store the cost function value for the current parameters\n",
    "        J_history.append(compute_cost(theta, X, y))\n",
    "\n",
    "    end_time = time.time()  # Record end time for execution time measurement\n",
    "    execution_time = end_time - start_time  # Compute total execution time\n",
    "    print(f\"Execution time for alpha = {alpha}: {execution_time} seconds\")\n",
    "\n",
    "    return theta, J_history"
   ]
  },
  {
   "cell_type": "markdown",
   "metadata": {},
   "source": [
    "## f) Run the Gradient Descent algorithm with some values of α (eg 1,0.1, 0.01, 0.001) and draw the graph showing the decrease in the value of J(θ) as a function of time steps.\n"
   ]
  },
  {
   "cell_type": "code",
   "execution_count": null,
   "metadata": {},
   "outputs": [],
   "source": [
    "alphas = [1, 0.1, 0.01, 0.001]\n",
    "num_iters = 100\n",
    "\n",
    "start_time = time.time()\n",
    "\n",
    "for alpha in alphas:\n",
    "    theta, J_history = gradient_descent(X_scaled, y_scaled, alpha, num_iters)\n",
    "    print(J_history[-1])\n",
    "    \n",
    "    plt.figure(figsize=(8, 6))\n",
    "    plt.plot(range(1, num_iters + 1), J_history)\n",
    "    plt.xlabel('Iterations')\n",
    "    plt.ylabel('Cost Function J(θ)')\n",
    "    plt.title(f'Gradient Descent: Cost Function vs. Iterations (alpha = {alpha})')\n",
    "    plt.grid(True)\n",
    "    plt.show()\n",
    "\n",
    "end_time = time.time()\n",
    "execution_time = end_time - start_time\n",
    "print(f\"Total execution time: {execution_time} seconds\")\n"
   ]
  },
  {
   "cell_type": "markdown",
   "metadata": {},
   "source": [
    "## G) Run the same code with a mini-batch.\n"
   ]
  },
  {
   "cell_type": "code",
   "execution_count": null,
   "metadata": {},
   "outputs": [],
   "source": [
    "def mini_batch_gradient_descent(X, y, alpha, num_iters, batch_size):\n",
    "    m, n = X.shape  # Number of examples and features\n",
    "    theta = np.zeros(n)  # Initialize parameters to zeros\n",
    "    J_history = []  # Initialize empty list to store cost function history\n",
    "\n",
    "    for i in range(num_iters):  # Iterate over the specified number of iterations\n",
    "        # Shuffle the data and split it into mini-batches\n",
    "        indices = np.random.permutation(m)  # Randomly shuffle the indices of the examples\n",
    "        X_shuffled = X[indices]  # Shuffle the feature matrix\n",
    "        y_shuffled = y[indices]  # Shuffle the target vector\n",
    "        num_batches = m // batch_size  # Calculate the number of mini-batches\n",
    "\n",
    "        for j in range(num_batches):  # Iterate over each mini-batch\n",
    "            start = j * batch_size  # Calculate the start index of the current mini-batch\n",
    "            end = (j + 1) * batch_size  # Calculate the end index of the current mini-batch\n",
    "            X_batch = X_shuffled[start:end]  # Extract the feature mini-batch\n",
    "            y_batch = y_shuffled[start:end]  # Extract the target mini-batch\n",
    "\n",
    "            # Update parameters using gradient descent\n",
    "            theta -= alpha * compute_gradient(theta, X_batch, y_batch)\n",
    "        \n",
    "        # Calculate cost function for the entire dataset after each iteration\n",
    "        J_history.append(compute_cost(theta, X, y))  # Append the cost to the history list\n",
    "\n",
    "    return theta, J_history  # Return the optimized parameters and cost history\n"
   ]
  },
  {
   "cell_type": "code",
   "execution_count": null,
   "metadata": {},
   "outputs": [],
   "source": [
    "alphas = [1, 0.1, 0.01, 0.001]\n",
    "num_iters = 100\n",
    "\n",
    "start_time = time.time()\n",
    "\n",
    "for alpha in alphas:\n",
    "    theta, J_history = mini_batch_gradient_descent(X_scaled, y_scaled, alpha, num_iters, batch_size=50)\n",
    "    print(J_history[-1])\n",
    "    \n",
    "    plt.figure(figsize=(8, 6))\n",
    "    plt.plot(range(1, num_iters + 1), J_history)\n",
    "    plt.xlabel('Iterations')\n",
    "    plt.ylabel('Cost Function J(θ)')\n",
    "    plt.title(f'Gradient Descent: Cost Function vs. Iterations (alpha = {alpha})')\n",
    "    plt.grid(True)\n",
    "    plt.show()\n",
    "\n",
    "end_time = time.time()\n",
    "execution_time = end_time - start_time\n",
    "print(f\"Total execution time: {execution_time} seconds\")\n",
    "\n",
    "\n"
   ]
  },
  {
   "cell_type": "markdown",
   "metadata": {},
   "source": [
    "### SVD reduce dimension"
   ]
  },
  {
   "cell_type": "code",
   "execution_count": null,
   "metadata": {},
   "outputs": [],
   "source": [
    "def svd_reduce_dimension(X, num_features=3):\n",
    "    # Perform Singular Value Decomposition (SVD) on the input matrix X\n",
    "    U, Sigma, VT = np.linalg.svd(X)\n",
    "    \n",
    "    # Reduce the dimensionality of U and Sigma to retain only the specified number of features\n",
    "    U_reduced = U[:, :num_features]  # Select the first 'num_features' columns of U\n",
    "    Sigma_reduced = np.diag(Sigma[:num_features])  # Create a diagonal matrix with the first 'num_features' singular values\n",
    "    \n",
    "    # Reconstruct the reduced-dimensional matrix X_reduced using the truncated U and Sigma\n",
    "    X_reduced = np.dot(U_reduced, Sigma_reduced)\n",
    "    \n",
    "    return X_reduced\n",
    "\n",
    "# Example usage:\n",
    "# Reduce the dimensionality of the scaled feature matrix X_scaled to 3 features\n",
    "X_reduced = svd_reduce_dimension(X_scaled, num_features=3)\n",
    "#X\n",
    "#X_reduced\n"
   ]
  },
  {
   "cell_type": "code",
   "execution_count": null,
   "metadata": {},
   "outputs": [],
   "source": [
    "import time\n",
    "\n",
    "def run_algorithm_on_reduced_data(X, y):\n",
    "    \"\"\"\n",
    "    Run the gradient descent algorithm on the reduced-dimensional data X.\n",
    "\n",
    "    Parameters:\n",
    "    - X: np.ndarray, the data matrix with shape (m, n).\n",
    "    - y: np.ndarray, the target variable vector with shape (m,).\n",
    "\n",
    "    Returns:\n",
    "    - theta: np.ndarray, the optimized parameters.\n",
    "    - J_history: list, the history of cost function values during optimization.\n",
    "    \"\"\"\n",
    "\n",
    "    X_reduced = svd_reduce_dimension(X, num_features=3)\n",
    "    # Add a column of ones to X for the intercept term\n",
    "    X_reduced = np.hstack((np.ones((X_reduced.shape[0], 1)), X_reduced))\n",
    "\n",
    "    alphas = [1, 0.1, 0.01, 0.001]\n",
    "    num_iters = 100\n",
    "    start_time = time.time()\n",
    "\n",
    "    for alpha in alphas:\n",
    "        theta, J_history = gradient_descent(X_reduced, y, alpha, num_iters)\n",
    "\n",
    "        # Plot cost function vs. iterations for each alpha\n",
    "        plt.figure(figsize=(8, 6))\n",
    "        plt.plot(range(1, num_iters + 1), J_history)\n",
    "        plt.xlabel('Iterations')\n",
    "        plt.ylabel('Cost Function J(θ)')\n",
    "        plt.title(f'Gradient Descent: Cost Function vs. Iterations (alpha = {alpha})')\n",
    "        plt.grid(True)\n",
    "        plt.show()\n",
    "\n",
    "        print(f\"Final cost function value for alpha = {alpha}: {J_history[-1]}\")\n",
    "\n",
    "    end_time = time.time()\n",
    "    execution_time = end_time - start_time\n",
    "    print(f\"Total execution time: {execution_time} seconds\")\n",
    "\n",
    "    return theta, J_history\n",
    "\n",
    "\n",
    "\n",
    "run_algorithm_on_reduced_data(X_scaled, y_scaled)\n",
    "\n",
    "\n"
   ]
  },
  {
   "cell_type": "markdown",
   "metadata": {},
   "source": [
    "## Conclusions about the run in terms of results and running times:"
   ]
  },
  {
   "cell_type": "markdown",
   "metadata": {},
   "source": [
    "The experimental results indicate significant differences in the execution times among the three optimization methods: Gradient Descent, Mini Batch Gradient Descent, and SVD + Gradient Descent.\n",
    "\n",
    "1. **Gradient Descent**:\n",
    "   - Execution Time: 0.1249 seconds\n",
    "   - This method involves updating the model parameters using the gradient of the cost function computed on the entire dataset in each iteration. It is the standard approach to optimization but may become computationally expensive on large datasets due to its requirement to process the entire dataset in each iteration.\n",
    "\n",
    "2. **Mini Batch Gradient Descent**:\n",
    "   - Execution Time: 0.1799 seconds\n",
    "   - This method divides the dataset into smaller batches and updates the parameters using the gradient computed on each batch. By processing smaller batches of data, it reduces the computational burden compared to Gradient Descent. However, it still requires iterating through the entire dataset multiple times, leading to a longer execution time compared to SVD + Gradient Descent.\n",
    "\n",
    "3. **SVD + Gradient Descent**:\n",
    "   - Execution Time: 0.0041 seconds\n",
    "   - This method first reduces the dimensionality of the feature matrix using Singular Value Decomposition (SVD) and then applies Gradient Descent on the reduced-dimensional data. By reducing the dimensionality, the computational complexity of Gradient Descent is significantly reduced. This approach leverages the essential information captured by SVD to optimize the model parameters efficiently.\n",
    "   \n",
    "Overall, the SVD + Gradient Descent method demonstrates the fastest execution time among the three approaches. While it requires an additional preprocessing step (SVD), the reduction in computational complexity during optimization results in a considerable improvement in execution time, making it an efficient choice for large datasets."
   ]
  },
  {
   "cell_type": "markdown",
   "metadata": {},
   "source": [
    "### Compare runtime of Gradient Descent, Mini Batch and SVD with gradient descent "
   ]
  },
  {
   "cell_type": "code",
   "execution_count": null,
   "metadata": {},
   "outputs": [],
   "source": [
    "import numpy as np\n",
    "import matplotlib.pyplot as plt\n",
    "import time  # Explicitly confirming import here\n",
    "\n",
    "def compare_runtime(X, y, num_features=3, num_iters=100, batch_size=50):\n",
    "    \"\"\"\n",
    "    Compare the runtime of Gradient Descent, Mini Batch Gradient Descent, and\n",
    "    Gradient Descent on SVD-reduced data.\n",
    "    \"\"\"\n",
    "    alphas = [0.01]  # Standard alpha for all runs\n",
    "\n",
    "    # Using full Gradient Descent\n",
    "    start_time = time.time()\n",
    "    _, _ = gradient_descent(X, y, alphas[0], num_iters)\n",
    "    gd_time = time.time() - start_time\n",
    "\n",
    "    # Using Mini Batch Gradient Descent\n",
    "    start_time = time.time()\n",
    "    _, _ = mini_batch_gradient_descent(X, y, alphas[0], num_iters, batch_size)\n",
    "    mbgd_time = time.time() - start_time\n",
    "\n",
    "    # Using Gradient Descent on SVD-reduced data\n",
    "    X_reduced = svd_reduce_dimension(X, num_features)\n",
    "    X_reduced = np.hstack((np.ones((X_reduced.shape[0], 1)), X_reduced))\n",
    "    start_time = time.time()\n",
    "    _, _ = gradient_descent(X_reduced, y, alphas[0], num_iters)\n",
    "    svd_gd_time = time.time() - start_time\n",
    "\n",
    "    # Plotting results\n",
    "    times = [gd_time, mbgd_time, svd_gd_time]\n",
    "    methods = ['Gradient Descent', 'Mini Batch Gradient Descent', 'SVD + Gradient Descent']\n",
    "    plt.figure(figsize=(10, 6))\n",
    "    plt.bar(methods, times, color=['blue', 'green', 'red'])\n",
    "    plt.ylabel('Execution Time (seconds)')\n",
    "    plt.title('Comparison of Algorithm Execution Times')\n",
    "    plt.show()\n",
    "\n",
    "    for method, exec_time in zip(methods, times):\n",
    "        print(f\"{method}: {exec_time:.4f} seconds\")\n",
    "\n",
    "# Example call (assuming X_scaled and y_scaled are defined)\n",
    "compare_runtime(X_scaled, y_scaled)\n"
   ]
  },
  {
   "cell_type": "code",
   "execution_count": 5,
   "metadata": {},
   "outputs": [
    {
     "data": {
      "image/png": "[encoded data removed]",
      "text/plain": [
       "<Figure size 800x500 with 1 Axes>"
      ]
     },
     "metadata": {},
     "output_type": "display_data"
    }
   ],
   "source": [
    "import matplotlib.pyplot as plt\n",
    "\n",
    "# Datos actualizados de los restaurantes y menús\n",
    "restaurants_updated = [\n",
    "    \"Café Rimon\", \"Lucciana\", \"Arcaffe\", \"Joy\", \"Berlin Burger\", \n",
    "    \"Roladin\", \"Sushi Rehavia\", \"Café Denia (Restaurante)\", \n",
    "    \"Café Lyon (Restaurante)\", \"Café Liba\", \"Greg Cafe (Restaurante)\",\n",
    "    \"Derech HaGefen\", \"Japanika\", \"Grill House\"\n",
    "]\n",
    "\n",
    "menu_types_updated = [\n",
    "    \"Carta física en hebreo e inglés\", \n",
    "    \"Carta física en hebreo e inglés\",\n",
    "    \"Carta física en hebreo e inglés\", \n",
    "    \"Carta física en hebreo e inglés\",\n",
    "    \"Carta física en hebreo e inglés\", \n",
    "    \"Carta física en hebreo e inglés y código QR a menú online\",\n",
    "    \"Tablet en hebreo e inglés\", \n",
    "    \"Tablet en hebreo e inglés\",\n",
    "    \"Carta física en hebreo, inglés y francés\", \n",
    "    \"Carta física en hebreo\", \n",
    "    \"Tablet en inglés y hebreo y menú digital\",\n",
    "    \"Carta física en hebreo e inglés\",\n",
    "    \"Tablet en inglés y hebreo y menú digital\",\n",
    "    \"Carta física en inglés y hebreo\"\n",
    "]\n",
    "\n",
    "# Contar el número de restaurantes para cada tipo de menú actualizado\n",
    "menu_counts_updated = {\n",
    "    \"Carta Física\": sum(1 for menu in menu_types_updated if \"Carta física\" in menu),\n",
    "    \"Tablet\": sum(1 for menu in menu_types_updated if \"Tablet\" in menu),\n",
    "    \"Código QR\": sum(1 for menu in menu_types_updated if \"código QR\" in menu)\n",
    "}\n",
    "\n",
    "# Crear gráfico de barras actualizado\n",
    "plt.figure(figsize=(8, 5))\n",
    "plt.bar(menu_counts_updated.keys(), menu_counts_updated.values(), color='skyblue')\n",
    "plt.ylabel('Número de Restaurantes')\n",
    "plt.title('Distribución de Tipos de Menú en Restaurantes de Jerusalem')\n",
    "plt.xticks(rotation=0)\n",
    "plt.tight_layout()\n",
    "\n",
    "# Mostrar el gráfico actualizado\n",
    "plt.show()\n"
   ]
  }
 ],
 "metadata": {
  "kernelspec": {
   "display_name": "base",
   "language": "python",
   "name": "python3"
  },
  "language_info": {
   "codemirror_mode": {
    "name": "ipython",
    "version": 3
   },
   "file_extension": ".py",
   "mimetype": "text/x-python",
   "name": "python",
   "nbconvert_exporter": "python",
   "pygments_lexer": "ipython3",
   "version": "3.11.5"
  }
 },
 "nbformat": 4,
 "nbformat_minor": 2
}
